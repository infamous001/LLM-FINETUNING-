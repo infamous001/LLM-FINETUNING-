{
  "cells": [
    {
      "cell_type": "markdown",
      "metadata": {
        "id": "rZZHz92UsuTv"
      },
      "source": [
        "Downloading the dependices"
      ]
    },
    {
      "cell_type": "code",
      "execution_count": 41,
      "metadata": {
        "colab": {
          "base_uri": "https://localhost:8080/"
        },
        "id": "XE-YAkWaqCc2",
        "outputId": "6d62af82-adf9-4c6e-8e75-aaa4b28f296e"
      },
      "outputs": [
        {
          "output_type": "stream",
          "name": "stdout",
          "text": [
            "  Installing build dependencies ... \u001b[?25l\u001b[?25hdone\n",
            "  Getting requirements to build wheel ... \u001b[?25l\u001b[?25hdone\n",
            "  Preparing metadata (pyproject.toml) ... \u001b[?25l\u001b[?25hdone\n",
            "  Installing build dependencies ... \u001b[?25l\u001b[?25hdone\n",
            "  Getting requirements to build wheel ... \u001b[?25l\u001b[?25hdone\n",
            "  Preparing metadata (pyproject.toml) ... \u001b[?25l\u001b[?25hdone\n",
            "  Installing build dependencies ... \u001b[?25l\u001b[?25hdone\n",
            "  Getting requirements to build wheel ... \u001b[?25l\u001b[?25hdone\n",
            "  Preparing metadata (pyproject.toml) ... \u001b[?25l\u001b[?25hdone\n",
            "  Installing build dependencies ... \u001b[?25l\u001b[?25hdone\n",
            "  Getting requirements to build wheel ... \u001b[?25l\u001b[?25hdone\n",
            "  Preparing metadata (pyproject.toml) ... \u001b[?25l\u001b[?25hdone\n"
          ]
        }
      ],
      "source": [
        "!pip install -q -U git+https://github.com/lvwerra/trl.git\n",
        "!pip install -q -U bitsandbytes\n",
        "!pip install -U -q git+https://github.com/huggingface/transformers@de9255de27abfcae4a1f816b904915f0b1e23cd9\n",
        "!pip install -q -U git+https://github.com/huggingface/peft.git\n",
        "!pip install -q -U git+https://github.com/huggingface/accelerate.git\n",
        "!pip install -q -U sentencepiece"
      ]
    },
    {
      "cell_type": "markdown",
      "metadata": {
        "id": "YvK48v28s90x"
      },
      "source": [
        "Downloading datasets"
      ]
    },
    {
      "cell_type": "code",
      "execution_count": 42,
      "metadata": {
        "id": "t6BlMu0VrPPD"
      },
      "outputs": [],
      "source": [
        "from datasets import load_dataset\n",
        "dbricks_15k_dataset_base = load_dataset(\"databricks/databricks-dolly-15k\")"
      ]
    },
    {
      "cell_type": "code",
      "execution_count": 43,
      "metadata": {
        "colab": {
          "base_uri": "https://localhost:8080/"
        },
        "id": "oKiR_sijsFlp",
        "outputId": "6755cc8a-77cc-43c6-88b1-bb0bfd115b55"
      },
      "outputs": [
        {
          "output_type": "execute_result",
          "data": {
            "text/plain": [
              "DatasetDict({\n",
              "    train: Dataset({\n",
              "        features: ['instruction', 'context', 'response', 'category'],\n",
              "        num_rows: 15011\n",
              "    })\n",
              "})"
            ]
          },
          "metadata": {},
          "execution_count": 43
        }
      ],
      "source": [
        "dbricks_15k_dataset_base"
      ]
    },
    {
      "cell_type": "markdown",
      "metadata": {
        "id": "JWGA9dGWtLu3"
      },
      "source": [
        "plotting the sequence length of the data---->so that we can drop the larger examples"
      ]
    },
    {
      "cell_type": "code",
      "execution_count": 44,
      "metadata": {
        "id": "0wDzu_IbsKM-"
      },
      "outputs": [],
      "source": [
        "import matplotlib.pyplot as plt\n",
        "from datasets import load_dataset\n",
        "\n",
        "def plot_sequence_lengths(dataset_obj):\n",
        "    sequence_lengths = []\n",
        "    too_long = []# a list of too long sentences\n",
        "\n",
        "    # Loop over the dataset and get the lengths of text sequences\n",
        "    for idx, example in enumerate(dataset_obj[\"train\"]):\n",
        "        sequence_lengths.append(len(example['instruction']) + len(example[\"context\"]) + len(example[\"response\"]))\n",
        "        if sequence_lengths[idx] > 2200:\n",
        "          too_long.append(idx)#to keep track of index of too long sentences\n",
        "\n",
        "    # Plot the histogram\n",
        "    plt.hist(sequence_lengths, bins=30)\n",
        "    plt.xlabel('Sequence Length')\n",
        "    plt.ylabel('Count')\n",
        "    plt.title('Distribution of Text Sequence Lengths')\n",
        "    plt.show()\n",
        "\n",
        "    return too_long"
      ]
    },
    {
      "cell_type": "code",
      "execution_count": 45,
      "metadata": {
        "colab": {
          "base_uri": "https://localhost:8080/",
          "height": 472
        },
        "id": "oAgquK_Ats9J",
        "outputId": "6021d2b7-dfd7-406c-b6e0-032f76319326"
      },
      "outputs": [
        {
          "output_type": "display_data",
          "data": {
            "text/plain": [
              "<Figure size 640x480 with 1 Axes>"
            ],
            "image/png": "[encoded data removed]"
          },
          "metadata": {}
        }
      ],
      "source": [
        "index_to_drop = plot_sequence_lengths(dbricks_15k_dataset_base)"
      ]
    },
    {
      "cell_type": "code",
      "execution_count": 46,
      "metadata": {
        "colab": {
          "base_uri": "https://localhost:8080/"
        },
        "id": "qJ_OagVRttay",
        "outputId": "b5410eb5-a640-4251-c288-4914186f363f"
      },
      "outputs": [
        {
          "output_type": "execute_result",
          "data": {
            "text/plain": [
              "936"
            ]
          },
          "metadata": {},
          "execution_count": 46
        }
      ],
      "source": [
        "len(index_to_drop)# have to drop these indexes"
      ]
    },
    {
      "cell_type": "code",
      "execution_count": 47,
      "metadata": {
        "id": "-NGiBx8dtzbh"
      },
      "outputs": [],
      "source": [
        "dbricks_reduced = dbricks_15k_dataset_base[\"train\"].select(\n",
        "    i for i in range(len(dbricks_15k_dataset_base[\"train\"])) if i not in set(index_to_drop)\n",
        ")"
      ]
    },
    {
      "cell_type": "code",
      "execution_count": 48,
      "metadata": {
        "colab": {
          "base_uri": "https://localhost:8080/"
        },
        "id": "NxEPfuwFuEyM",
        "outputId": "d71de8ea-b361-4a2e-a3d7-c31cf305e3e0"
      },
      "outputs": [
        {
          "output_type": "execute_result",
          "data": {
            "text/plain": [
              "Dataset({\n",
              "    features: ['instruction', 'context', 'response', 'category'],\n",
              "    num_rows: 14075\n",
              "})"
            ]
          },
          "metadata": {},
          "execution_count": 48
        }
      ],
      "source": [
        "dbricks_reduced #no train test split here"
      ]
    },
    {
      "cell_type": "markdown",
      "metadata": {
        "id": "6JM2uys7ukKJ"
      },
      "source": [
        "Train test split on reduced dataset"
      ]
    },
    {
      "cell_type": "code",
      "execution_count": 49,
      "metadata": {
        "id": "t4_rhhbuuTFm"
      },
      "outputs": [],
      "source": [
        "dbricks_final = dbricks_reduced.train_test_split(test_size=0.1)"
      ]
    },
    {
      "cell_type": "code",
      "execution_count": 50,
      "metadata": {
        "colab": {
          "base_uri": "https://localhost:8080/"
        },
        "id": "eezZIOp8u7FC",
        "outputId": "c5886ebf-136e-40f5-8901-0fe73e3afffa"
      },
      "outputs": [
        {
          "output_type": "execute_result",
          "data": {
            "text/plain": [
              "DatasetDict({\n",
              "    train: Dataset({\n",
              "        features: ['instruction', 'context', 'response', 'category'],\n",
              "        num_rows: 12667\n",
              "    })\n",
              "    test: Dataset({\n",
              "        features: ['instruction', 'context', 'response', 'category'],\n",
              "        num_rows: 1408\n",
              "    })\n",
              "})"
            ]
          },
          "metadata": {},
          "execution_count": 50
        }
      ],
      "source": [
        "dbricks_final"
      ]
    },
    {
      "cell_type": "code",
      "execution_count": 51,
      "metadata": {
        "colab": {
          "base_uri": "https://localhost:8080/",
          "height": 472
        },
        "id": "bIp0Uy_XuwID",
        "outputId": "c075e2d6-2ba1-44c9-b993-dbefb28b816e"
      },
      "outputs": [
        {
          "output_type": "display_data",
          "data": {
            "text/plain": [
              "<Figure size 640x480 with 1 Axes>"
            ],
            "image/png": "[encoded data removed]"
          },
          "metadata": {}
        }
      ],
      "source": [
        "index_= plot_sequence_lengths(dbricks_final)"
      ]
    },
    {
      "cell_type": "markdown",
      "metadata": {
        "id": "uesfSK5YvCP7"
      },
      "source": [
        "Formatting the training dataset ->like how it will be presented to the model while training"
      ]
    },
    {
      "cell_type": "code",
      "execution_count": 52,
      "metadata": {
        "id": "kBolaGcauzig"
      },
      "outputs": [],
      "source": [
        "def format(example):\n",
        "  if example.get(\"context\", \"\") != \"\":\n",
        "      input_prompt = (f\"Below is an instruction that describes a task, paired with an input that provides further context. \"\n",
        "      \"Write a response that appropriately completes the request.\\n\\n\"\n",
        "      \"### Instruction:\\n\"\n",
        "      f\"{example['instruction']}\\n\\n\"\n",
        "      f\"### Input: \\n\"\n",
        "      f\"{example['context']}\\n\\n\"\n",
        "      f\"### Response: \\n\"\n",
        "      f\"{example['response']}\")\n",
        "\n",
        "  else:\n",
        "    input_prompt = (f\"Below is an instruction that describes a task. \"\n",
        "      \"Write a response that appropriately completes the request.\\n\\n\"\n",
        "      \"### Instruction:\\n\"\n",
        "      f\"{example['instruction']}\\n\\n\"\n",
        "      f\"### Response:\\n\"\n",
        "      f\"{example['response']}\")\n",
        "\n",
        "  return {\"text\" : input_prompt}"
      ]
    },
    {
      "cell_type": "code",
      "execution_count": 53,
      "metadata": {
        "colab": {
          "base_uri": "https://localhost:8080/"
        },
        "id": "cChJ-8EWwcR3",
        "outputId": "e2186efc-a942-4b33-dd9f-6b0eb29b4b16"
      },
      "outputs": [
        {
          "output_type": "stream",
          "name": "stdout",
          "text": [
            "{'instruction': 'How would you train for a marathon?', 'context': '', 'response': \"If you are not regularly running, but are generally fit, it would require many months of training to complete a marathon. Running at least 3 or better 4 times a week will be necessary. You should gradually increase your training load. A good guidance is to not increase the total mileage by more than 10% per week. One of the weekly runs should be a long run. You can should start with a distance that you are able to currently run, and keep gradually increasing it every week until you are able to run 30 km. You shouldn't need training runs longer than that. You should be able to run 30 km about 6 weeks before your target marathon. In the last weeks before the marathon decrease it down to about 20 km. The other runs in the week should be shorter. You should start as short as you are comfortable, and then increase them until they are 10-12 km. You should run all these runs at an easy pace, that would allow you to hold a conversation.\\nGood luck with your marathon!\", 'category': 'brainstorming'}\n",
            "-------------------------------------\n",
            "{'text': \"Below is an instruction that describes a task. Write a response that appropriately completes the request.\\n\\n### Instruction:\\nHow would you train for a marathon?\\n\\n### Response:\\nIf you are not regularly running, but are generally fit, it would require many months of training to complete a marathon. Running at least 3 or better 4 times a week will be necessary. You should gradually increase your training load. A good guidance is to not increase the total mileage by more than 10% per week. One of the weekly runs should be a long run. You can should start with a distance that you are able to currently run, and keep gradually increasing it every week until you are able to run 30 km. You shouldn't need training runs longer than that. You should be able to run 30 km about 6 weeks before your target marathon. In the last weeks before the marathon decrease it down to about 20 km. The other runs in the week should be shorter. You should start as short as you are comfortable, and then increase them until they are 10-12 km. You should run all these runs at an easy pace, that would allow you to hold a conversation.\\nGood luck with your marathon!\"}\n"
          ]
        }
      ],
      "source": [
        "#below is the diff between the formatted and non formatted example\n",
        "sample1=dbricks_final['train'][0]\n",
        "print(sample1)\n",
        "print('-------------------------------------')\n",
        "format_sample1=format(sample1)\n",
        "print(format_sample1)"
      ]
    },
    {
      "cell_type": "code",
      "execution_count": 54,
      "metadata": {
        "colab": {
          "base_uri": "https://localhost:8080/",
          "height": 81,
          "referenced_widgets": [
            "07855ce6c1da4bde86b096ee3db06271",
            "f022a22f690a4789bc1d3f147faa8940",
            "6aac03b8f94c4d63b6aed4fccb25dfc1",
            "c5042140a35f4f48adc3d1a5637ed07e",
            "ae886c75e8514bca97f303bdaffc3b49",
            "297d090b2b33465090f929dc35e4c6d1",
            "b431d339bc9746fb9f7416cd7e285028",
            "41893cedd9794504a27c3823a71e2618",
            "25c772d8a9cc4cc4b45686db672e0753",
            "051664bd3b864e1d8f20ed7bd2364f19",
            "ed1b2400e41b4369b0860e2b8e8da7bb",
            "0443385888a744bcb747f24eae98975e",
            "68bce1d9cf49483aa4fbcb0dc9c63791",
            "eed1a0893b914b52bbfee49cde356e3d",
            "08392ddb0a984fa99c2e6379b8c96378",
            "190cc44a1df84de1b55e931b3002c3d5",
            "ea6bb4bd9e85461e9cd0d78cf314c679",
            "4c3dd459a31a46f7884eef6f270bd7d4",
            "80473d2b8e8b4f90888c0c574ae5c5b8",
            "a3c14595007c420e89cc769d23da9ab4",
            "b79487fd36384606a6693ac1efead77c",
            "b95ba89533274c18a499c00d56879994"
          ]
        },
        "id": "cja2wGQNwgzY",
        "outputId": "b9fefc1b-7758-4b24-e588-d7fc01c037ca"
      },
      "outputs": [
        {
          "output_type": "display_data",
          "data": {
            "text/plain": [
              "Map:   0%|          | 0/12667 [00:00<?, ? examples/s]"
            ],
            "application/vnd.jupyter.widget-view+json": {
              "version_major": 2,
              "version_minor": 0,
              "model_id": "07855ce6c1da4bde86b096ee3db06271"
            }
          },
          "metadata": {}
        },
        {
          "output_type": "display_data",
          "data": {
            "text/plain": [
              "Map:   0%|          | 0/1408 [00:00<?, ? examples/s]"
            ],
            "application/vnd.jupyter.widget-view+json": {
              "version_major": 2,
              "version_minor": 0,
              "model_id": "0443385888a744bcb747f24eae98975e"
            }
          },
          "metadata": {}
        }
      ],
      "source": [
        "format_dataset = dbricks_final.map(format)"
      ]
    },
    {
      "cell_type": "code",
      "execution_count": 55,
      "metadata": {
        "colab": {
          "base_uri": "https://localhost:8080/"
        },
        "id": "EjM0r2VAy_rd",
        "outputId": "ebd40dd8-30aa-401e-a6d8-568d17624c9f"
      },
      "outputs": [
        {
          "output_type": "execute_result",
          "data": {
            "text/plain": [
              "DatasetDict({\n",
              "    train: Dataset({\n",
              "        features: ['instruction', 'context', 'response', 'category', 'text'],\n",
              "        num_rows: 12667\n",
              "    })\n",
              "    test: Dataset({\n",
              "        features: ['instruction', 'context', 'response', 'category', 'text'],\n",
              "        num_rows: 1408\n",
              "    })\n",
              "})"
            ]
          },
          "metadata": {},
          "execution_count": 55
        }
      ],
      "source": [
        "format_dataset"
      ]
    },
    {
      "cell_type": "code",
      "execution_count": 56,
      "metadata": {
        "colab": {
          "base_uri": "https://localhost:8080/"
        },
        "id": "J5y5p13izUXT",
        "outputId": "1a653783-ca96-416a-dfeb-39409cce0ad4"
      },
      "outputs": [
        {
          "output_type": "execute_result",
          "data": {
            "text/plain": [
              "{'instruction': 'How would you train for a marathon?',\n",
              " 'context': '',\n",
              " 'response': \"If you are not regularly running, but are generally fit, it would require many months of training to complete a marathon. Running at least 3 or better 4 times a week will be necessary. You should gradually increase your training load. A good guidance is to not increase the total mileage by more than 10% per week. One of the weekly runs should be a long run. You can should start with a distance that you are able to currently run, and keep gradually increasing it every week until you are able to run 30 km. You shouldn't need training runs longer than that. You should be able to run 30 km about 6 weeks before your target marathon. In the last weeks before the marathon decrease it down to about 20 km. The other runs in the week should be shorter. You should start as short as you are comfortable, and then increase them until they are 10-12 km. You should run all these runs at an easy pace, that would allow you to hold a conversation.\\nGood luck with your marathon!\",\n",
              " 'category': 'brainstorming',\n",
              " 'text': \"Below is an instruction that describes a task. Write a response that appropriately completes the request.\\n\\n### Instruction:\\nHow would you train for a marathon?\\n\\n### Response:\\nIf you are not regularly running, but are generally fit, it would require many months of training to complete a marathon. Running at least 3 or better 4 times a week will be necessary. You should gradually increase your training load. A good guidance is to not increase the total mileage by more than 10% per week. One of the weekly runs should be a long run. You can should start with a distance that you are able to currently run, and keep gradually increasing it every week until you are able to run 30 km. You shouldn't need training runs longer than that. You should be able to run 30 km about 6 weeks before your target marathon. In the last weeks before the marathon decrease it down to about 20 km. The other runs in the week should be shorter. You should start as short as you are comfortable, and then increase them until they are 10-12 km. You should run all these runs at an easy pace, that would allow you to hold a conversation.\\nGood luck with your marathon!\"}"
            ]
          },
          "metadata": {},
          "execution_count": 56
        }
      ],
      "source": [
        "format_dataset['train'][0]"
      ]
    },
    {
      "cell_type": "markdown",
      "metadata": {
        "id": "lz1DChm30WEc"
      },
      "source": [
        "downloading model\n",
        "and setting up lora and tokenizer"
      ]
    },
    {
      "cell_type": "code",
      "execution_count": null,
      "metadata": {
        "id": "RCn4-GZFz9tH"
      },
      "outputs": [],
      "source": [
        "import torch\n",
        "import transformers\n",
        "from peft import LoraConfig\n",
        "from transformers import AutoModelForCausalLM, BitsAndBytesConfig, AutoTokenizer\n",
        "\n",
        "model_id = \"openlm-research/open_llama_7b\" #model name on hugging face\n",
        "\n",
        "qlora_config = LoraConfig(\n",
        "    #hyperparameters for finetuning using qlora -> based on original repo of this model and other repo using this\n",
        "    r=16, #rank of matrix 100x100-> 100x16 and 16x100  16 is default value\n",
        "    lora_alpha=32,\n",
        "    lora_dropout=0.05,\n",
        "    bias=\"none\",\n",
        "    task_type=\"CAUSAL_LM\"\n",
        ")\n",
        "#in order to add qunatisation to the model\n",
        "bnb_config = BitsAndBytesConfig(\n",
        "    load_in_4bit=True,#32bit to 4bit integers to keep value small so that it can be trained\n",
        "    bnb_4bit_use_double_quant=True,\n",
        "    bnb_4bit_quant_type=\"nf4\",\n",
        "    bnb_4bit_compute_dtype=torch.bfloat16\n",
        ")\n",
        "\n",
        "base_model = AutoModelForCausalLM.from_pretrained(\n",
        "    model_id,\n",
        "    quantization_config=bnb_config,\n",
        ")"
      ]
    },
    {
      "cell_type": "code",
      "execution_count": null,
      "metadata": {
        "id": "wOFwelg01QcQ"
      },
      "outputs": [],
      "source": [
        "from transformers import LlamaTokenizer\n",
        "#downloading the tokenizer for lamma model\n",
        "tokenizer = LlamaTokenizer.from_pretrained(model_id)\n",
        "tokenizer.add_special_tokens({'pad_token': '[PAD]'})"
      ]
    },
    {
      "cell_type": "code",
      "execution_count": null,
      "metadata": {
        "id": "FDkfc0Mz50S5"
      },
      "outputs": [],
      "source": [
        "print(base_model) #all are in 4 bit"
      ]
    },
    {
      "cell_type": "markdown",
      "source": [
        "Training the model"
      ],
      "metadata": {
        "id": "xi4lCm59o0Ta"
      }
    },
    {
      "cell_type": "code",
      "source": [
        "from trl import SFTTrainer\n",
        "\n",
        "supervised_finetuning_trainer = SFTTrainer(\n",
        "    base_model,\n",
        "    train_dataset=format_dataset[\"train\"],\n",
        "    eval_dataset=format_dataset[\"test\"],\n",
        "    args=transformers.TrainingArguments(\n",
        "        per_device_train_batch_size=1,\n",
        "        gradient_accumulation_steps=4,\n",
        "        learning_rate=2e-4,\n",
        "        max_steps=1000,\n",
        "        output_dir=\"./SFTOpenLM-Dolly15k\",\n",
        "        optim=\"paged_adamw_8bit\",\n",
        "        fp16=True,\n",
        "    ),\n",
        "    tokenizer=tokenizer,\n",
        "    peft_config=qlora_config,\n",
        "    dataset_text_field=\"text\",\n",
        "    max_seq_length=512\n",
        ")"
      ],
      "metadata": {
        "id": "RQn1jDveozZg"
      },
      "execution_count": null,
      "outputs": []
    },
    {
      "cell_type": "code",
      "execution_count": null,
      "metadata": {
        "id": "SS0qyYNv55Nw"
      },
      "outputs": [],
      "source": [
        "supervised_finetuning_trainer.train()"
      ]
    },
    {
      "cell_type": "markdown",
      "source": [
        "Testing model"
      ],
      "metadata": {
        "id": "ejD6T1zPqQbz"
      }
    },
    {
      "cell_type": "code",
      "source": [
        "from IPython.display import display, Markdown\n",
        "\n",
        "def make_inference(instruction, context = None):\n",
        "  if context:\n",
        "    prompt = f\"Below is an instruction that describes a task, paired with an input that provides further context.\\n\\n### Instruction: \\n{instruction}\\n\\n### Input: \\n{context}\\n\\n### Response: \\n\"\n",
        "  else:\n",
        "    prompt = f\"Below is an instruction that describes a task. Write a response that appropriately completes the request.\\n\\n### Instruction: \\n{instruction}\\n\\n### Response: \\n\"\n",
        "  inputs = tokenizer(prompt, return_tensors=\"pt\", return_token_type_ids=False).to(\"cuda:0\")\n",
        "  outputs = base_model.generate(**inputs, max_new_tokens=100)\n",
        "  display(Markdown((tokenizer.decode(outputs[0], skip_special_tokens=True))))"
      ],
      "metadata": {
        "id": "AvAqXYDZpb-r"
      },
      "execution_count": null,
      "outputs": []
    },
    {
      "cell_type": "code",
      "source": [
        "make_inference(\"Explain in simple terms how the attention mechanism of a transformer model works\")"
      ],
      "metadata": {
        "id": "CAJWHRQIp4hZ"
      },
      "execution_count": null,
      "outputs": []
    }
  ],
  "metadata": {
    "accelerator": "GPU",
    "colab": {
      "machine_shape": "hm",
      "provenance": [],
      "gpuType": "A100"
    },
    "kernelspec": {
      "display_name": "Python 3",
      "name": "python3"
    },
    "language_info": {
      "name": "python"
    },
    "widgets": {
      "application/vnd.jupyter.widget-state+json": {
        "07855ce6c1da4bde86b096ee3db06271": {
          "model_module": "@jupyter-widgets/controls",
          "model_name": "HBoxModel",
          "model_module_version": "1.5.0",
          "state": {
            "_dom_classes": [],
            "_model_module": "@jupyter-widgets/controls",
            "_model_module_version": "1.5.0",
            "_model_name": "HBoxModel",
            "_view_count": null,
            "_view_module": "@jupyter-widgets/controls",
            "_view_module_version": "1.5.0",
            "_view_name": "HBoxView",
            "box_style": "",
            "children": [
              "IPY_MODEL_f022a22f690a4789bc1d3f147faa8940",
              "IPY_MODEL_6aac03b8f94c4d63b6aed4fccb25dfc1",
              "IPY_MODEL_c5042140a35f4f48adc3d1a5637ed07e"
            ],
            "layout": "IPY_MODEL_ae886c75e8514bca97f303bdaffc3b49"
          }
        },
        "f022a22f690a4789bc1d3f147faa8940": {
          "model_module": "@jupyter-widgets/controls",
          "model_name": "HTMLModel",
          "model_module_version": "1.5.0",
          "state": {
            "_dom_classes": [],
            "_model_module": "@jupyter-widgets/controls",
            "_model_module_version": "1.5.0",
            "_model_name": "HTMLModel",
            "_view_count": null,
            "_view_module": "@jupyter-widgets/controls",
            "_view_module_version": "1.5.0",
            "_view_name": "HTMLView",
            "description": "",
            "description_tooltip": null,
            "layout": "IPY_MODEL_297d090b2b33465090f929dc35e4c6d1",
            "placeholder": "​",
            "style": "IPY_MODEL_b431d339bc9746fb9f7416cd7e285028",
            "value": "Map: 100%"
          }
        },
        "6aac03b8f94c4d63b6aed4fccb25dfc1": {
          "model_module": "@jupyter-widgets/controls",
          "model_name": "FloatProgressModel",
          "model_module_version": "1.5.0",
          "state": {
            "_dom_classes": [],
            "_model_module": "@jupyter-widgets/controls",
            "_model_module_version": "1.5.0",
            "_model_name": "FloatProgressModel",
            "_view_count": null,
            "_view_module": "@jupyter-widgets/controls",
            "_view_module_version": "1.5.0",
            "_view_name": "ProgressView",
            "bar_style": "success",
            "description": "",
            "description_tooltip": null,
            "layout": "IPY_MODEL_41893cedd9794504a27c3823a71e2618",
            "max": 12667,
            "min": 0,
            "orientation": "horizontal",
            "style": "IPY_MODEL_25c772d8a9cc4cc4b45686db672e0753",
            "value": 12667
          }
        },
        "c5042140a35f4f48adc3d1a5637ed07e": {
          "model_module": "@jupyter-widgets/controls",
          "model_name": "HTMLModel",
          "model_module_version": "1.5.0",
          "state": {
            "_dom_classes": [],
            "_model_module": "@jupyter-widgets/controls",
            "_model_module_version": "1.5.0",
            "_model_name": "HTMLModel",
            "_view_count": null,
            "_view_module": "@jupyter-widgets/controls",
            "_view_module_version": "1.5.0",
            "_view_name": "HTMLView",
            "description": "",
            "description_tooltip": null,
            "layout": "IPY_MODEL_051664bd3b864e1d8f20ed7bd2364f19",
            "placeholder": "​",
            "style": "IPY_MODEL_ed1b2400e41b4369b0860e2b8e8da7bb",
            "value": " 12667/12667 [00:01&lt;00:00, 8332.71 examples/s]"
          }
        },
        "ae886c75e8514bca97f303bdaffc3b49": {
          "model_module": "@jupyter-widgets/base",
          "model_name": "LayoutModel",
          "model_module_version": "1.2.0",
          "state": {
            "_model_module": "@jupyter-widgets/base",
            "_model_module_version": "1.2.0",
            "_model_name": "LayoutModel",
            "_view_count": null,
            "_view_module": "@jupyter-widgets/base",
            "_view_module_version": "1.2.0",
            "_view_name": "LayoutView",
            "align_content": null,
            "align_items": null,
            "align_self": null,
            "border": null,
            "bottom": null,
            "display": null,
            "flex": null,
            "flex_flow": null,
            "grid_area": null,
            "grid_auto_columns": null,
            "grid_auto_flow": null,
            "grid_auto_rows": null,
            "grid_column": null,
            "grid_gap": null,
            "grid_row": null,
            "grid_template_areas": null,
            "grid_template_columns": null,
            "grid_template_rows": null,
            "height": null,
            "justify_content": null,
            "justify_items": null,
            "left": null,
            "margin": null,
            "max_height": null,
            "max_width": null,
            "min_height": null,
            "min_width": null,
            "object_fit": null,
            "object_position": null,
            "order": null,
            "overflow": null,
            "overflow_x": null,
            "overflow_y": null,
            "padding": null,
            "right": null,
            "top": null,
            "visibility": null,
            "width": null
          }
        },
        "297d090b2b33465090f929dc35e4c6d1": {
          "model_module": "@jupyter-widgets/base",
          "model_name": "LayoutModel",
          "model_module_version": "1.2.0",
          "state": {
            "_model_module": "@jupyter-widgets/base",
            "_model_module_version": "1.2.0",
            "_model_name": "LayoutModel",
            "_view_count": null,
            "_view_module": "@jupyter-widgets/base",
            "_view_module_version": "1.2.0",
            "_view_name": "LayoutView",
            "align_content": null,
            "align_items": null,
            "align_self": null,
            "border": null,
            "bottom": null,
            "display": null,
            "flex": null,
            "flex_flow": null,
            "grid_area": null,
            "grid_auto_columns": null,
            "grid_auto_flow": null,
            "grid_auto_rows": null,
            "grid_column": null,
            "grid_gap": null,
            "grid_row": null,
            "grid_template_areas": null,
            "grid_template_columns": null,
            "grid_template_rows": null,
            "height": null,
            "justify_content": null,
            "justify_items": null,
            "left": null,
            "margin": null,
            "max_height": null,
            "max_width": null,
            "min_height": null,
            "min_width": null,
            "object_fit": null,
            "object_position": null,
            "order": null,
            "overflow": null,
            "overflow_x": null,
            "overflow_y": null,
            "padding": null,
            "right": null,
            "top": null,
            "visibility": null,
            "width": null
          }
        },
        "b431d339bc9746fb9f7416cd7e285028": {
          "model_module": "@jupyter-widgets/controls",
          "model_name": "DescriptionStyleModel",
          "model_module_version": "1.5.0",
          "state": {
            "_model_module": "@jupyter-widgets/controls",
            "_model_module_version": "1.5.0",
            "_model_name": "DescriptionStyleModel",
            "_view_count": null,
            "_view_module": "@jupyter-widgets/base",
            "_view_module_version": "1.2.0",
            "_view_name": "StyleView",
            "description_width": ""
          }
        },
        "41893cedd9794504a27c3823a71e2618": {
          "model_module": "@jupyter-widgets/base",
          "model_name": "LayoutModel",
          "model_module_version": "1.2.0",
          "state": {
            "_model_module": "@jupyter-widgets/base",
            "_model_module_version": "1.2.0",
            "_model_name": "LayoutModel",
            "_view_count": null,
            "_view_module": "@jupyter-widgets/base",
            "_view_module_version": "1.2.0",
            "_view_name": "LayoutView",
            "align_content": null,
            "align_items": null,
            "align_self": null,
            "border": null,
            "bottom": null,
            "display": null,
            "flex": null,
            "flex_flow": null,
            "grid_area": null,
            "grid_auto_columns": null,
            "grid_auto_flow": null,
            "grid_auto_rows": null,
            "grid_column": null,
            "grid_gap": null,
            "grid_row": null,
            "grid_template_areas": null,
            "grid_template_columns": null,
            "grid_template_rows": null,
            "height": null,
            "justify_content": null,
            "justify_items": null,
            "left": null,
            "margin": null,
            "max_height": null,
            "max_width": null,
            "min_height": null,
            "min_width": null,
            "object_fit": null,
            "object_position": null,
            "order": null,
            "overflow": null,
            "overflow_x": null,
            "overflow_y": null,
            "padding": null,
            "right": null,
            "top": null,
            "visibility": null,
            "width": null
          }
        },
        "25c772d8a9cc4cc4b45686db672e0753": {
          "model_module": "@jupyter-widgets/controls",
          "model_name": "ProgressStyleModel",
          "model_module_version": "1.5.0",
          "state": {
            "_model_module": "@jupyter-widgets/controls",
            "_model_module_version": "1.5.0",
            "_model_name": "ProgressStyleModel",
            "_view_count": null,
            "_view_module": "@jupyter-widgets/base",
            "_view_module_version": "1.2.0",
            "_view_name": "StyleView",
            "bar_color": null,
            "description_width": ""
          }
        },
        "051664bd3b864e1d8f20ed7bd2364f19": {
          "model_module": "@jupyter-widgets/base",
          "model_name": "LayoutModel",
          "model_module_version": "1.2.0",
          "state": {
            "_model_module": "@jupyter-widgets/base",
            "_model_module_version": "1.2.0",
            "_model_name": "LayoutModel",
            "_view_count": null,
            "_view_module": "@jupyter-widgets/base",
            "_view_module_version": "1.2.0",
            "_view_name": "LayoutView",
            "align_content": null,
            "align_items": null,
            "align_self": null,
            "border": null,
            "bottom": null,
            "display": null,
            "flex": null,
            "flex_flow": null,
            "grid_area": null,
            "grid_auto_columns": null,
            "grid_auto_flow": null,
            "grid_auto_rows": null,
            "grid_column": null,
            "grid_gap": null,
            "grid_row": null,
            "grid_template_areas": null,
            "grid_template_columns": null,
            "grid_template_rows": null,
            "height": null,
            "justify_content": null,
            "justify_items": null,
            "left": null,
            "margin": null,
            "max_height": null,
            "max_width": null,
            "min_height": null,
            "min_width": null,
            "object_fit": null,
            "object_position": null,
            "order": null,
            "overflow": null,
            "overflow_x": null,
            "overflow_y": null,
            "padding": null,
            "right": null,
            "top": null,
            "visibility": null,
            "width": null
          }
        },
        "ed1b2400e41b4369b0860e2b8e8da7bb": {
          "model_module": "@jupyter-widgets/controls",
          "model_name": "DescriptionStyleModel",
          "model_module_version": "1.5.0",
          "state": {
            "_model_module": "@jupyter-widgets/controls",
            "_model_module_version": "1.5.0",
            "_model_name": "DescriptionStyleModel",
            "_view_count": null,
            "_view_module": "@jupyter-widgets/base",
            "_view_module_version": "1.2.0",
            "_view_name": "StyleView",
            "description_width": ""
          }
        },
        "0443385888a744bcb747f24eae98975e": {
          "model_module": "@jupyter-widgets/controls",
          "model_name": "HBoxModel",
          "model_module_version": "1.5.0",
          "state": {
            "_dom_classes": [],
            "_model_module": "@jupyter-widgets/controls",
            "_model_module_version": "1.5.0",
            "_model_name": "HBoxModel",
            "_view_count": null,
            "_view_module": "@jupyter-widgets/controls",
            "_view_module_version": "1.5.0",
            "_view_name": "HBoxView",
            "box_style": "",
            "children": [
              "IPY_MODEL_68bce1d9cf49483aa4fbcb0dc9c63791",
              "IPY_MODEL_eed1a0893b914b52bbfee49cde356e3d",
              "IPY_MODEL_08392ddb0a984fa99c2e6379b8c96378"
            ],
            "layout": "IPY_MODEL_190cc44a1df84de1b55e931b3002c3d5"
          }
        },
        "68bce1d9cf49483aa4fbcb0dc9c63791": {
          "model_module": "@jupyter-widgets/controls",
          "model_name": "HTMLModel",
          "model_module_version": "1.5.0",
          "state": {
            "_dom_classes": [],
            "_model_module": "@jupyter-widgets/controls",
            "_model_module_version": "1.5.0",
            "_model_name": "HTMLModel",
            "_view_count": null,
            "_view_module": "@jupyter-widgets/controls",
            "_view_module_version": "1.5.0",
            "_view_name": "HTMLView",
            "description": "",
            "description_tooltip": null,
            "layout": "IPY_MODEL_ea6bb4bd9e85461e9cd0d78cf314c679",
            "placeholder": "​",
            "style": "IPY_MODEL_4c3dd459a31a46f7884eef6f270bd7d4",
            "value": "Map: 100%"
          }
        },
        "eed1a0893b914b52bbfee49cde356e3d": {
          "model_module": "@jupyter-widgets/controls",
          "model_name": "FloatProgressModel",
          "model_module_version": "1.5.0",
          "state": {
            "_dom_classes": [],
            "_model_module": "@jupyter-widgets/controls",
            "_model_module_version": "1.5.0",
            "_model_name": "FloatProgressModel",
            "_view_count": null,
            "_view_module": "@jupyter-widgets/controls",
            "_view_module_version": "1.5.0",
            "_view_name": "ProgressView",
            "bar_style": "success",
            "description": "",
            "description_tooltip": null,
            "layout": "IPY_MODEL_80473d2b8e8b4f90888c0c574ae5c5b8",
            "max": 1408,
            "min": 0,
            "orientation": "horizontal",
            "style": "IPY_MODEL_a3c14595007c420e89cc769d23da9ab4",
            "value": 1408
          }
        },
        "08392ddb0a984fa99c2e6379b8c96378": {
          "model_module": "@jupyter-widgets/controls",
          "model_name": "HTMLModel",
          "model_module_version": "1.5.0",
          "state": {
            "_dom_classes": [],
            "_model_module": "@jupyter-widgets/controls",
            "_model_module_version": "1.5.0",
            "_model_name": "HTMLModel",
            "_view_count": null,
            "_view_module": "@jupyter-widgets/controls",
            "_view_module_version": "1.5.0",
            "_view_name": "HTMLView",
            "description": "",
            "description_tooltip": null,
            "layout": "IPY_MODEL_b79487fd36384606a6693ac1efead77c",
            "placeholder": "​",
            "style": "IPY_MODEL_b95ba89533274c18a499c00d56879994",
            "value": " 1408/1408 [00:00&lt;00:00, 7353.19 examples/s]"
          }
        },
        "190cc44a1df84de1b55e931b3002c3d5": {
          "model_module": "@jupyter-widgets/base",
          "model_name": "LayoutModel",
          "model_module_version": "1.2.0",
          "state": {
            "_model_module": "@jupyter-widgets/base",
            "_model_module_version": "1.2.0",
            "_model_name": "LayoutModel",
            "_view_count": null,
            "_view_module": "@jupyter-widgets/base",
            "_view_module_version": "1.2.0",
            "_view_name": "LayoutView",
            "align_content": null,
            "align_items": null,
            "align_self": null,
            "border": null,
            "bottom": null,
            "display": null,
            "flex": null,
            "flex_flow": null,
            "grid_area": null,
            "grid_auto_columns": null,
            "grid_auto_flow": null,
            "grid_auto_rows": null,
            "grid_column": null,
            "grid_gap": null,
            "grid_row": null,
            "grid_template_areas": null,
            "grid_template_columns": null,
            "grid_template_rows": null,
            "height": null,
            "justify_content": null,
            "justify_items": null,
            "left": null,
            "margin": null,
            "max_height": null,
            "max_width": null,
            "min_height": null,
            "min_width": null,
            "object_fit": null,
            "object_position": null,
            "order": null,
            "overflow": null,
            "overflow_x": null,
            "overflow_y": null,
            "padding": null,
            "right": null,
            "top": null,
            "visibility": null,
            "width": null
          }
        },
        "ea6bb4bd9e85461e9cd0d78cf314c679": {
          "model_module": "@jupyter-widgets/base",
          "model_name": "LayoutModel",
          "model_module_version": "1.2.0",
          "state": {
            "_model_module": "@jupyter-widgets/base",
            "_model_module_version": "1.2.0",
            "_model_name": "LayoutModel",
            "_view_count": null,
            "_view_module": "@jupyter-widgets/base",
            "_view_module_version": "1.2.0",
            "_view_name": "LayoutView",
            "align_content": null,
            "align_items": null,
            "align_self": null,
            "border": null,
            "bottom": null,
            "display": null,
            "flex": null,
            "flex_flow": null,
            "grid_area": null,
            "grid_auto_columns": null,
            "grid_auto_flow": null,
            "grid_auto_rows": null,
            "grid_column": null,
            "grid_gap": null,
            "grid_row": null,
            "grid_template_areas": null,
            "grid_template_columns": null,
            "grid_template_rows": null,
            "height": null,
            "justify_content": null,
            "justify_items": null,
            "left": null,
            "margin": null,
            "max_height": null,
            "max_width": null,
            "min_height": null,
            "min_width": null,
            "object_fit": null,
            "object_position": null,
            "order": null,
            "overflow": null,
            "overflow_x": null,
            "overflow_y": null,
            "padding": null,
            "right": null,
            "top": null,
            "visibility": null,
            "width": null
          }
        },
        "4c3dd459a31a46f7884eef6f270bd7d4": {
          "model_module": "@jupyter-widgets/controls",
          "model_name": "DescriptionStyleModel",
          "model_module_version": "1.5.0",
          "state": {
            "_model_module": "@jupyter-widgets/controls",
            "_model_module_version": "1.5.0",
            "_model_name": "DescriptionStyleModel",
            "_view_count": null,
            "_view_module": "@jupyter-widgets/base",
            "_view_module_version": "1.2.0",
            "_view_name": "StyleView",
            "description_width": ""
          }
        },
        "80473d2b8e8b4f90888c0c574ae5c5b8": {
          "model_module": "@jupyter-widgets/base",
          "model_name": "LayoutModel",
          "model_module_version": "1.2.0",
          "state": {
            "_model_module": "@jupyter-widgets/base",
            "_model_module_version": "1.2.0",
            "_model_name": "LayoutModel",
            "_view_count": null,
            "_view_module": "@jupyter-widgets/base",
            "_view_module_version": "1.2.0",
            "_view_name": "LayoutView",
            "align_content": null,
            "align_items": null,
            "align_self": null,
            "border": null,
            "bottom": null,
            "display": null,
            "flex": null,
            "flex_flow": null,
            "grid_area": null,
            "grid_auto_columns": null,
            "grid_auto_flow": null,
            "grid_auto_rows": null,
            "grid_column": null,
            "grid_gap": null,
            "grid_row": null,
            "grid_template_areas": null,
            "grid_template_columns": null,
            "grid_template_rows": null,
            "height": null,
            "justify_content": null,
            "justify_items": null,
            "left": null,
            "margin": null,
            "max_height": null,
            "max_width": null,
            "min_height": null,
            "min_width": null,
            "object_fit": null,
            "object_position": null,
            "order": null,
            "overflow": null,
            "overflow_x": null,
            "overflow_y": null,
            "padding": null,
            "right": null,
            "top": null,
            "visibility": null,
            "width": null
          }
        },
        "a3c14595007c420e89cc769d23da9ab4": {
          "model_module": "@jupyter-widgets/controls",
          "model_name": "ProgressStyleModel",
          "model_module_version": "1.5.0",
          "state": {
            "_model_module": "@jupyter-widgets/controls",
            "_model_module_version": "1.5.0",
            "_model_name": "ProgressStyleModel",
            "_view_count": null,
            "_view_module": "@jupyter-widgets/base",
            "_view_module_version": "1.2.0",
            "_view_name": "StyleView",
            "bar_color": null,
            "description_width": ""
          }
        },
        "b79487fd36384606a6693ac1efead77c": {
          "model_module": "@jupyter-widgets/base",
          "model_name": "LayoutModel",
          "model_module_version": "1.2.0",
          "state": {
            "_model_module": "@jupyter-widgets/base",
            "_model_module_version": "1.2.0",
            "_model_name": "LayoutModel",
            "_view_count": null,
            "_view_module": "@jupyter-widgets/base",
            "_view_module_version": "1.2.0",
            "_view_name": "LayoutView",
            "align_content": null,
            "align_items": null,
            "align_self": null,
            "border": null,
            "bottom": null,
            "display": null,
            "flex": null,
            "flex_flow": null,
            "grid_area": null,
            "grid_auto_columns": null,
            "grid_auto_flow": null,
            "grid_auto_rows": null,
            "grid_column": null,
            "grid_gap": null,
            "grid_row": null,
            "grid_template_areas": null,
            "grid_template_columns": null,
            "grid_template_rows": null,
            "height": null,
            "justify_content": null,
            "justify_items": null,
            "left": null,
            "margin": null,
            "max_height": null,
            "max_width": null,
            "min_height": null,
            "min_width": null,
            "object_fit": null,
            "object_position": null,
            "order": null,
            "overflow": null,
            "overflow_x": null,
            "overflow_y": null,
            "padding": null,
            "right": null,
            "top": null,
            "visibility": null,
            "width": null
          }
        },
        "b95ba89533274c18a499c00d56879994": {
          "model_module": "@jupyter-widgets/controls",
          "model_name": "DescriptionStyleModel",
          "model_module_version": "1.5.0",
          "state": {
            "_model_module": "@jupyter-widgets/controls",
            "_model_module_version": "1.5.0",
            "_model_name": "DescriptionStyleModel",
            "_view_count": null,
            "_view_module": "@jupyter-widgets/base",
            "_view_module_version": "1.2.0",
            "_view_name": "StyleView",
            "description_width": ""
          }
        }
      }
    }
  },
  "nbformat": 4,
  "nbformat_minor": 0
}